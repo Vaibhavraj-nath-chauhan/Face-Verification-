{
 "cells": [
  {
   "cell_type": "code",
   "execution_count": 1,
   "metadata": {},
   "outputs": [
    {
     "name": "stdout",
     "output_type": "stream",
     "text": [
      "{'verified': True, 'distance': 0.050999357752677166, 'threshold': 0.07, 'model': 'Dlib', 'detector_backend': 'mtcnn', 'similarity_metric': 'cosine', 'Confidance': 0.9328678344934921}\n"
     ]
    }
   ],
   "source": [
    "import requests\n",
    "import cv2\n",
    "# define the URL to our face detection API\n",
    "url = \"http://127.0.0.1:8000/API/detect/\"\n",
    "\n",
    "payload = {\"image\": open(\"Vai1.jpg\", \"rb\"),\"image1\":open(\"Vai2.jpg\",\"rb\")}\n",
    "result = requests.post(url, files=payload).json()\n",
    "print(result)\n"
   ]
  },
  {
   "cell_type": "code",
   "execution_count": 2,
   "metadata": {},
   "outputs": [
    {
     "name": "stdout",
     "output_type": "stream",
     "text": [
      "{'success': False, 'Message': 'Accept only system image'}\n"
     ]
    }
   ],
   "source": [
    "import requests\n",
    "import cv2\n",
    "# define the URL to our face detection API\n",
    "url = \"http://127.0.0.1:8000/API/detect/\"\n",
    "\n",
    "payload = {\"url\":\"https://ichef.bbci.co.uk/news/976/cpsprodpb/5FEF/production/_123295542_hi073181766.jpg\" ,\"url\":\"https://ichef.bbci.co.uk/news/976/cpsprodpb/5FEF/production/_123295542_hi073181766.jpg\"}\n",
    "r = requests.post(url, files=payload).json()\n",
    "print(r)"
   ]
  }
 ],
 "metadata": {
  "kernelspec": {
   "display_name": "Python 3 (ipykernel)",
   "language": "python",
   "name": "python3"
  },
  "language_info": {
   "codemirror_mode": {
    "name": "ipython",
    "version": 3
   },
   "file_extension": ".py",
   "mimetype": "text/x-python",
   "name": "python",
   "nbconvert_exporter": "python",
   "pygments_lexer": "ipython3",
   "version": "3.9.7"
  }
 },
 "nbformat": 4,
 "nbformat_minor": 4
}
